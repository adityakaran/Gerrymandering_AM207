{
  "nbformat": 4,
  "nbformat_minor": 0,
  "metadata": {
    "colab": {
      "name": "Gerrymandering.ipynb",
      "version": "0.3.2",
      "provenance": [],
      "toc_visible": true,
      "include_colab_link": true
    },
    "kernelspec": {
      "name": "python3",
      "display_name": "Python 3"
    }
  },
  "cells": [
    {
      "cell_type": "markdown",
      "metadata": {
        "id": "view-in-github",
        "colab_type": "text"
      },
      "source": [
        "<a href=\"https://colab.research.google.com/github/adityakaran/Gerrymandering_AM207/blob/master/Gerrymandering.ipynb\" target=\"_parent\"><img src=\"https://colab.research.google.com/assets/colab-badge.svg\" alt=\"Open In Colab\"/></a>"
      ]
    },
    {
      "metadata": {
        "id": "owNweVY88oQ-",
        "colab_type": "text"
      },
      "cell_type": "markdown",
      "source": [
        "# Quantifying Gerrymandering in North Carolina"
      ]
    },
    {
      "metadata": {
        "id": "XqDiOCwp8tSk",
        "colab_type": "text"
      },
      "cell_type": "markdown",
      "source": [
        "### Collaborators\n",
        "\n",
        "Aditya Karan, Manish Reddy Vuyyuru, Zizheng Xu"
      ]
    },
    {
      "metadata": {
        "id": "iIMXnMyeCP8E",
        "colab_type": "text"
      },
      "cell_type": "markdown",
      "source": [
        "In politics, [Gerrymandering](https://en.wikipedia.org/wiki/Gerrymandering)  is the practice of intentionally manipulating voting districts in a given region to favor a given party. Often this results in relatively outlandish shapes of voting districts. However, the practice remains widespread. In particular, the courts haven't addressed whether one could go to far in explict partisn gerrymandering. The question has often come down to measurabilty - in 2004, Justice Kennedy wrote in his opinion [VIETH V. JUBELIRER](https://www.law.cornell.edu/supct/html/02-1580.ZC.html), states that while the court declained to intervene in this particular map \"\tthe failings of the many proposed standards for measuring the burden a gerrymander imposes on representational rights make our intervention improper.\tIf workable standards do emerge to measure these burdens, however, courts should be prepared to order relief.\"\n",
        "\n",
        "Several measures of partisin gerrymandering have arisen since that time. However, quantifying how much a certian map is biased one way or another alone cannot demosntrate gerrymandering - because of our desire for compactness of districts, keeping relevant natural communites as in the same district and complince of the Voting Rights Act, just scoring a map can't address the problem. \n",
        "\n",
        "Luckily there is a solution that can help! If we were able to sample a set of reasonable maps, we can quantify over the possible sets of reasonable graphs - what are the expected numbers of wins etc across this ensamble. Hence Markov Chain Monte Carlo provides a opportunity for us to generate these samples of maps. Once we have a sample we can compute these various statisics and compare to the actual maps to come up with a way of telling whether a given map's statistics would come up by chance or is there a concerted effort to gerrymander. \n",
        "\n",
        "We will leverage the GerryChain python package to help organize our data and learn how to start sampling the set of all maps\n",
        "\n"
      ]
    },
    {
      "metadata": {
        "id": "q68bNh8qKPNC",
        "colab_type": "text"
      },
      "cell_type": "markdown",
      "source": [
        "To start - we've provided data shapefiles/geojson files to aide. These are a best effort means of reconcilling precient level election data and population data - needed to help sample.\n"
      ]
    },
    {
      "metadata": {
        "id": "VzgwwqtSKjOX",
        "colab_type": "code",
        "colab": {}
      },
      "cell_type": "code",
      "source": [
        "'''Add in snipet which reads the file and generate a simple plot of the congressional districts '''"
      ],
      "execution_count": 0,
      "outputs": []
    },
    {
      "metadata": {
        "id": "kQAf6rxCKt0A",
        "colab_type": "text"
      },
      "cell_type": "markdown",
      "source": [
        "We can already see these shapes are a bit funky."
      ]
    },
    {
      "metadata": {
        "id": "-W6eCWAcLFsO",
        "colab_type": "text"
      },
      "cell_type": "markdown",
      "source": [
        "The two main objects we'll be concerned about are \"Graph\" objects and \"Partition\" objects. Graph objects can be geenrate by the Geojson/Shapefiles and give us back a networkx like graph - where the nodes are analogus to precients and the edges represnt two precients being geographically adjacent. \n",
        "\n",
        "A partition is a split of the graph into $n$ number of parts. Here we want to partition into $13$ districts. \n"
      ]
    },
    {
      "metadata": {
        "id": "V0hMVulrLmy2",
        "colab_type": "code",
        "colab": {}
      },
      "cell_type": "code",
      "source": [
        "'''Show sample graph and partition object'''"
      ],
      "execution_count": 0,
      "outputs": []
    },
    {
      "metadata": {
        "id": "PhpRf6mlL06e",
        "colab_type": "text"
      },
      "cell_type": "markdown",
      "source": [
        "Now to run a simple GerryChain example - we can set up a Markov Chain (explain a bit on how to do it and then demo the simpliest chain we can do ). Here, in particular, our \"step\" in our markov chain is labeled here as \"single_flip\". Here, we look at the edges in which the nodes are part of two different districts. Out of all those edges, we pick one and then with $\\frac{1}{2}$ flip the node to the other district"
      ]
    },
    {
      "metadata": {
        "id": "91XpIFx7LxYR",
        "colab_type": "code",
        "colab": {}
      },
      "cell_type": "code",
      "source": [
        "'''Dummy GerryChain example '''"
      ],
      "execution_count": 0,
      "outputs": []
    },
    {
      "metadata": {
        "id": "nZEmss8EMdow",
        "colab_type": "text"
      },
      "cell_type": "markdown",
      "source": [
        "Congrats - you just run your first chain.!!\n",
        "\n",
        "\n",
        ".\n",
        "But something seems odd. Do we really want to choose all districts? \n",
        "\n",
        "No of course not! Some districts are \"better\" than others, and we want to take that in consideration. \n",
        "\n",
        "In MCMC language, we consider all possible maps to be sampled from some probablity distribution. We would like to consider the probablity distribution of \"reasonable maps\" as the probablity distribution we're pulling from. \n",
        "\n",
        "To do this  - we'll implement a Metropolis-Hasting criteria and build up our sampling function based on our idea of a \"good\" map\n",
        "\n",
        "\n",
        "`"
      ]
    },
    {
      "metadata": {
        "id": "wX0poZH8OOgu",
        "colab_type": "text"
      },
      "cell_type": "markdown",
      "source": [
        "FROM HERE - BREAK DOWN THE SCORING FUNCTION SIMILAR TO WHATS BELOW BUT WITH CODE FOR EACH ONE. Summary below is good  - then breaking each one down\n",
        "\n",
        "We don't have to show all the nitty gritty code - put most of it in a library and only demo the ones that are relatively interesting. \n",
        "\n",
        "The format woudl roughly be text explaining scoring fucntion - implematnion of a part and perhaps a demo of what the score will be \n"
      ]
    },
    {
      "metadata": {
        "id": "-2RkGUhxOj5O",
        "colab_type": "text"
      },
      "cell_type": "markdown",
      "source": [
        "After that - introduce the idea of weights then the annealing parameter "
      ]
    },
    {
      "metadata": {
        "id": "axx_8MdVOoCf",
        "colab_type": "text"
      },
      "cell_type": "markdown",
      "source": [
        "After that can be like \"let's now try sampling\" -> Generate samples with the constraints (can add constraints explanation as well ). \n",
        "\n",
        "Plot a few of the samples (can just randomly return some in the chain)\n",
        "\n",
        "Then also talk about the statistics (efficiency gap/number of wins)\n",
        "\n",
        "Plot the data of the sample + where the actual district score with some discussion"
      ]
    },
    {
      "metadata": {
        "id": "giVQho5I8uLc",
        "colab_type": "text"
      },
      "cell_type": "markdown",
      "source": [
        "# Objective\n",
        "\n",
        "Using resampling tests to determine whether or not a specific districting plans has a suspition of being gerrymandered. The process of resampling from the space of valid redistriction plans is carried out by MCMC methods.\n",
        "\n",
        "# Approach\n",
        "\n",
        "Our general procedures of this test include:\n",
        "\n",
        "(i) sample from all the possibilities of congressional redistricting plans (a.k.a. space of congressional redistricting plans) that adheres to non-partisan redistricting criteria. The way to generate the next sample of redistricting plan given the current one  will be elaborated in **Implementation** section.  \n",
        "\n",
        "(ii) For each of our sampled redistricting plan, simulate an election result. Aggregate election results to construct the distributions of partisan vote balance on each district and of the congressional delegation’s partisan composition. This distribution is deemed free from any gerrymandering because it is a representive sample of all possible redistrictings.\n",
        "\n",
        "(iii) check whether the congressional delegation’s partisan composition is commonly seen in the aggregated distribution. When a districting is gerrymandered, it will deviate from the mode of the distribution, end up having extreme values on one of the tails of the distribution.  \n",
        "\n",
        "# Data \n",
        "\n",
        "Voting Tabulation Districts (VTD) geographic data was taken from the NCGA website. [Legislature NC (2010) 2010 VTD geographic data](http://www.ncleg.net/representation/Content/BaseData/BD2016.aspx)\n",
        "\n",
        "\n",
        "\n",
        "\n",
        "\n"
      ]
    },
    {
      "metadata": {
        "id": "fUmNIQ49Oh_Y",
        "colab_type": "text"
      },
      "cell_type": "markdown",
      "source": [
        ""
      ]
    },
    {
      "metadata": {
        "id": "i00W5ms7OL5B",
        "colab_type": "code",
        "colab": {}
      },
      "cell_type": "code",
      "source": [
        ""
      ],
      "execution_count": 0,
      "outputs": []
    },
    {
      "metadata": {
        "id": "ITBWdkQwj_AY",
        "colab_type": "text"
      },
      "cell_type": "markdown",
      "source": [
        "# Implementation\n",
        "\n",
        "\n",
        "## Mathematics notations\n",
        "\n",
        "To define the score function, we introduce several mathematical formalisms, the first of which is represents the\n",
        "state of North Carolina as a graph $ G$ with edges $E$ and vertices $V$ . Each vertex represents a Voting Tabulation District (VTD); an edge between\n",
        "two vertices exists if the two VTDs share boundaries with non-zero length. In general VTDs may be split into census blocks, however (i)\n",
        "the utilized redistricting criteria requires this splitting to minimized and (ii) we demonstrate that splitting VTDs to achieve zero population\n",
        "deviation in a district has nearly no effect on our results.\n",
        "\n",
        "Defining the graph this way allows us to formally define a redistricting plan: Assuming each VTD belongs to a single district, a redistricting\n",
        "plan is defined as a function from the vertices, $V$ , to one of the possible districts, which are represented by sequential integers – there are\n",
        "thirteen congressional districts in North Carolina, so we define a redistricting plan as a function\n",
        "$\\xi : V \\rightarrow \\{ 1,2 , \\dots , 13 \\}$.\n",
        "\n",
        "The redistricting plan\n",
        "function ξ is interpreted as follows: If a VTD is represented by a vertex $v \\in V ,$ then $\\xi ( v ) = i$ means that the VTD in question belongs to\n",
        "district $i$; similarly, for any $i \\in \\{ 1,2 , \\dots , 13 \\}$ and plan $\\xi ,$ the $i -$ th  district, denoted $D _ { i } ( \\xi ) ,$ is given by the set $\\{ v \\in V : \\xi ( v ) = i \\}$. \n",
        "\n",
        "We restrict\n",
        "the space of considered redistricting plans $\\xi$ such that each district $D _ { i } ( \\xi )$ is a single connected component; this restriction, along with our edge criteria, ensures that districts must be contiguous.\n",
        "We denote the collection of all redistricting plans with connected districts by  $\\mathcal { R }$\n",
        "\n",
        "\n",
        "## MCMC sampling overview\n",
        "\n",
        "Using a MCMC method to sample possible redistriction plans requires one to generate the next valid redistricting plans given the current one. This requires us to define a probability distribution on the space of redistricting plans. The probability is derived from **score functions**."
      ]
    },
    {
      "metadata": {
        "id": "4wevSkbYEI6P",
        "colab_type": "text"
      },
      "cell_type": "markdown",
      "source": [
        "## score function\n",
        "We define this family of distributions based on a score function that evaluates the overall “goodness” of a districting plan. \n",
        "\n",
        "The non-partisan design criteria of state law requires every redistricting that:\n",
        "\n",
        "1. the state population is evenly divided between the thirteen congressional districts,\n",
        "\n",
        "2. the districts are connected and compact,\n",
        "\n",
        "3. splitting counties is minimized, and\n",
        "\n",
        "4. African-American voters are sufficiently concentrated in two districts to affect the winner.\n",
        "\n",
        "The first three criteria come from House Bill 92 (HB92) of the NC General Assembly\n",
        "\n",
        "\n",
        "A plan ξ is rated with our score function denoted J. J maps each redistricting ξ ∈ R to a nonnegative number. Lower scores signify redistricting plans that more closely adhere to the criteria of HB92. We break down the score function J into four components that\n",
        "measure how well a given redistricting satisfies the individual principles outlined in HB92:\n",
        "\n",
        "1. the population score $J _ { p } ( \\xi )$ : measures how well the redistricting ξ partitions the population of North Carolina into 13 equal population\n",
        "groups; \n",
        "\n",
        "2. the isoperimetric score  $J _ { I } ( \\xi ) $: measures how compact the districts are; \n",
        "\n",
        "3. the county score $J _ { c } ( \\xi )$: measures the number of counties split between multiple districts; \n",
        "\n",
        "4. the minority score  $J _ { m } ( \\xi )$ measures the extent to which a districting plan adheres to the VRA\n",
        "\n",
        "Then our score function $J$ is defined as a weighted sum of $J _ { p } , J _ { I } , J _ { c } ,$ and $J _ { m }$\n",
        "\n",
        "$J ( \\xi ) = w _ { p } J _ { p } ( \\xi ) + w _ { I } J _ { I } ( \\xi ) + w _ { c } J _ { c } ( \\xi ) + w _ { m } J _ { m } ( \\xi )$\n",
        "\n",
        "where $w _ { p } , w _ { I } , w _ { c } ,$ and $w _ { m }$ are a collection of positive weights determined by an iterative process.\n",
        "\n",
        "\n",
        "### The population score function  $J _ { p } ( \\xi )$\n",
        "The population score, which measures how evenly populated the districts are, is defined by\n",
        "\n",
        "$$J _ { p } ( \\xi ) = \\sqrt { \\sum _ { i = 1 } ^ { 13 } \\left( \\frac { \\operatorname { pop } \\left( D _ { i } ( \\xi ) \\right) } { \\text { pop}_{\\text {ldeal}}  } - 1 \\right) ^ { 2 } }, \\ \\mathrm { pop } _ { \\text {ldeal} } = \\frac { N _ { \\text {pop} } } { 13 }$$\n",
        "\n",
        "where $N _ {$pop$}$ is the total population of North Carolina, pop$\\left( D _ { i } ( \\xi ) \\right)$ is the population of the district $D _ { i } ( \\xi )$.\n",
        "\n",
        "\n",
        "### The Isoparametric score function  $J _ { I } ( \\xi ) $\n",
        "\n",
        "The Isoperimetric score, which measures the overall compactness of a redistricting, is defined by\n",
        "\n",
        "$$J _ { I } ( \\xi ) = \\sum _ { i = 1 } ^ { 13 } \\frac { \\left[ \\mathrm { boundary } \\left( \\partial D _ { i } ( \\xi ) \\right) \\right] ^ { 2 } } { \\operatorname { area } \\left( D _ { i } ( \\xi ) \\right) }$$\n",
        "\n",
        "It is is the ratio of the square perimeter to the total area of each district. The Isoparametric score is minimized for a circle, which is the most\n",
        "compact shape.\n",
        "\n",
        "### The county score function $J _ { c } ( \\xi )$\n",
        "\n",
        "### The Voting Rights Act or minority score function $J _ { m } ( \\xi )$"
      ]
    },
    {
      "metadata": {
        "id": "odYda0nhWHwq",
        "colab_type": "text"
      },
      "cell_type": "markdown",
      "source": [
        "## probability distribution\n",
        "Then use the score function to\n",
        "define a **probability distribution**. \n",
        "\n",
        "\n",
        "The acceptance probability is\n",
        "given by:\n"
      ]
    },
    {
      "metadata": {
        "id": "113ZJJ76qf_R",
        "colab_type": "text"
      },
      "cell_type": "markdown",
      "source": [
        ""
      ]
    },
    {
      "metadata": {
        "id": "sn1dy6vcKNuo",
        "colab_type": "text"
      },
      "cell_type": "markdown",
      "source": [
        ""
      ]
    },
    {
      "metadata": {
        "id": "3yS2v1nwKr43",
        "colab_type": "text"
      },
      "cell_type": "markdown",
      "source": [
        ""
      ]
    }
  ]
}