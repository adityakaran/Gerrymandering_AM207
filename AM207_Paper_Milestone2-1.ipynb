{
 "cells": [
  {
   "cell_type": "markdown",
   "metadata": {},
   "source": [
    "# APMTH 207: Advanced Scientific Computing: \n",
    "## Stochastic Methods for Data Analysis, Inference and Optimization\n",
    "## Group Project -- Milestone 2\n",
    "**Harvard University**<br>\n",
    "**Fall 2018**<br>\n",
    "**Instructors: Rahul Dave**<br>\n",
    "**Due Date: ** Tuesday, November 21st, 2018 at 11:59pm\n",
    "\n",
    "**Instructions:**\n",
    "\n",
    "- Upload your iPython notebook containing all work to Canvas.\n",
    "\n",
    "- Structure your notebook and your work to maximize readability."
   ]
  },
  {
   "cell_type": "markdown",
   "metadata": {},
   "source": [
    "## Tutorial on a Recent Research Development\n",
    "\n",
    "As part of the requirements for this course we've stated the following(quoting the website): \"There will be one paper, towards the end of this course. It will require reading and presenting a recent research development in the field.\"\n",
    "\n",
    "We've compiled a list of papers that contain interesting treatments of topics related to AM207:\n",
    "\n",
    "https://docs.google.com/document/d/1N0FjmMHfpX8P__TAzWLQYXqtj_Hbgo839Gu3B0oKOaM/edit?usp=sharing\n",
    "\n",
    "If you find a paper not on this list that you would like to delve into for your project, please let us know (and we can add it).\n",
    "\n",
    "We want you to create a tutorial style jupyter notebook summarizing the relevant math, methods and procedure in a paper of your choice.  Your tutorial should show the relevant methods in action by implementing them on appropriately chosen data.\n",
    "\n",
    "At this point you should have organized yourself into a group, have chosen a paper topic and discussed it with a member of the AM207 teaching staff.  In this milestone, please give us  the name of your group(s) in Canvas, the name and url of your paper, a a short summary of your paper, a short description of your plan of attack, and the AM207 teaching staff member with whom you discussed (and from whom got approval of) your paper and plan of attack."
   ]
  },
  {
   "cell_type": "markdown",
   "metadata": {},
   "source": [
    "---"
   ]
  },
  {
   "cell_type": "markdown",
   "metadata": {},
   "source": [
    "**My/Our Paper (give us the title and url):**\n",
    "\n",
    "\n",
    "-- Paper Title: Quantifying Gerrymandering in North Carolina\n",
    "\n",
    "-- Paper Url: https://arxiv.org/pdf/1801.03783.pdf\n",
    "\n",
    "-- Brief Description (Paper Abstract): \n",
    "Using an ensemble of redistricting plans, we evaluate whether a given political districting faithfully represents the geo-political landscape. Redistricting plans are sampled by a Monte Carlo algorithm from a probability distribution that adheres to realistic and non-partisan criteria. Using the sampled redistricting plans and historical voting data, we produce an ensemble of elections that reveal geo-political structure within the state. We showcase our methods on the two most recent districtings of NC for the U.S. House of Representatives, as well as a plan drawn by a bipartisan redistricting panel. We find the two state enacted plans are highly atypical outliers whereas the bipartisan plan accurately represents the ensemble both in partisan outcome and in the fine scale structure of district-level results."
   ]
  },
  {
   "cell_type": "markdown",
   "metadata": {},
   "source": [
    "---"
   ]
  },
  {
   "cell_type": "markdown",
   "metadata": {},
   "source": [
    "**Members of the Group (give us the names and emails of all collaborators):**\n",
    "\n",
    "-- Collaborator 1: Aditya Karan (akaran@fas.harvard.edu)\n",
    "\n",
    "-- Collaborator 2: Xu Zizheng (zizheng.xu@g.harvard.edu)\n",
    "\n",
    "-- Collaborator 3: Manish Reddy Vuyyuru (mvuyyuru@g.harvard.edu)\n"
   ]
  },
  {
   "cell_type": "markdown",
   "metadata": {},
   "source": [
    "---"
   ]
  },
  {
   "cell_type": "markdown",
   "metadata": {},
   "source": [
    "**Project Group(Name of Project Group in Canvas):**\n",
    "\n",
    "-- Project Group Name (FAS):\n",
    "\n",
    "-- Project Group Name (DCE):\n"
   ]
  },
  {
   "cell_type": "markdown",
   "metadata": {},
   "source": [
    "---"
   ]
  },
  {
   "cell_type": "markdown",
   "metadata": {},
   "source": [
    "**Teaching Staff Member(s) we'd like to discuss our project with:**\n",
    "\n",
    "-- Teaching Staff Member 1: Patrick Ohiomoba \n",
    "\n",
    "-- Teaching Staff Member 2: Zongren Zou or Srivatsan Srinivasan\n"
   ]
  },
  {
   "cell_type": "markdown",
   "metadata": {},
   "source": [
    "---"
   ]
  },
  {
   "cell_type": "markdown",
   "metadata": {},
   "source": [
    "**Summary:**\n",
    "\n",
    "\n",
    "*Write a max 8-9 sentence summary of your paper*\n",
    "\n",
    "\n"
   ]
  },
  {
   "cell_type": "markdown",
   "metadata": {},
   "source": [
    "The paper aims to quantify the extent of gerrymandering in north carolina. To do this, the paper seeks to define and measure several things:\n",
    "\n",
    "* 1: A method to define a 'normal' redistricting plan, deviations from which can be considered gerrymandering.\n",
    "* 2: Numerical metrics to measure the extent of gerrymandering.\n",
    "* 3: Some specific (historical) results to apply (1.) and (2.) to so as to judge is there was gerrymandering, and to what extent.\n",
    "\n",
    "\n",
    "\n",
    "1. To define a 'normal' redistricting plan, the paper relied on:\n",
    "    * 1.1. Taking into account non-partisan design criteria that ensured several legal critera are met (e.g. House Bill 92(HB92) of NC General Assembly that requires state populations be equally divided between the districts, VRA, etc.), define a scoring function that measures the deviation from these criteria.\n",
    "    * 1.2. Sample from all possible redistricting plans, using adherence to the criteria (quantified by the score) as the probability distribution to arrive at an ensemble of redistricting plans that helps to understand what are \"typical\" and \"atypical\" redistricting plans among the space of all possible redistricting plans.\n",
    "    \n",
    "2. Numerical metrics to measure the extent of gerrymandering:\n",
    "    * 2.1. Existing summary statistics that helps to quantify extent of gerrymandering seem plenty and the paper points out some downsides of using these metrics (that they're only defined relative to past elections, other states, etc. and as a result they fail to account for some factors such as geo-political makeup) and in particular that these only use the ordered districting vote percentages.\n",
    "    * 2.2. The paper then goes on to define some novel metrics (representiveness index, gerrymandering index) that helps to overcome these limitations and leverages the generation of the ensemble of redistricting plans by incorporating marginal distribution data into the summary statistic.\n",
    "    \n",
    "3. NC2012, NC2016, Judges\n",
    "    * The paper uses the methodology in (1) and (2) to analyze the redistricting plans for the 2012, 2016 NC elections (NC2012, NC2016) and a bipartisan effort by retired judges to perform the redistricting as part of a \"Beyond Gerrymandering\" project (Judges).\n",
    "    * The paper finds the NC2012, NC2016 plans to be highly atypical (heavily gerrymandered, not representing geo-political landscape) while Judges plan to be highly typical. "
   ]
  },
  {
   "cell_type": "markdown",
   "metadata": {},
   "source": [
    "---"
   ]
  },
  {
   "cell_type": "markdown",
   "metadata": {},
   "source": [
    "**Plan of Attack:**\n",
    "\n",
    "\n",
    "*Write a max 5-6 sentence description of your plan of attack for your project tutorial*\n",
    "\n",
    "\n"
   ]
  },
  {
   "cell_type": "markdown",
   "metadata": {},
   "source": [
    "The project tutorial will focus on 3 central aspects of the paper:\n",
    "* 1. The process of ariving at an appropriate probability distribution.\n",
    "* 2. Sampling from this probability distribution to arrive at some ensemble of possible redistricting plans.\n",
    "* 3. Interpretation of results from methodology (1., 2.) via appropriate choice of summary statistics.\n",
    "\n",
    "\n",
    "1. The probability distribution for this problem is not well defined. Instead, we are presented with very general guidelines of what is 'expected'. We will walk through the process used in the paper from translating these general guidelines to a specific probability distribution (also referred to as 'score function' in the paper) based on degree of adherence to these guidelines and the reasoning behind the choices of different parameters (and how the overall outcomes is infact fairly robust to different, but similar choices to parameters).\n",
    "\n",
    "2. It is unclear what the best method to sample from this probability is. Several other methods are mentioned, but we will focus on the implementaiton of MCMC, including the graph structure used to represent possible redistricting plans and the choice of sampling scheme. Given sufficient time, we will either briefly consider the other sampling methods (and issues they have with non-representative sampling) or we might try slight variations to the presented graph structure/sampling scheme.\n",
    "\n",
    "3. Choice of summary statistics is fairly crucial and the paper was able to propose some novel metrics (seemingly because of these methodology and access to this ensemble of redistricting plans). We will compare the typical metrics (beyond the efficiency gap and symmetry difference statistics) to the novel metrics on extreme cases to highlight the issues raised with the typical metrics used. \n",
    "\n",
    "We will also very briefly go through the process of how the paper analyzed the NC2012, NC2016, Judges results using the choice of probability distribution, sampling method and summary statistic and show how these methods can be applied to other maps."
   ]
  },
  {
   "cell_type": "markdown",
   "metadata": {},
   "source": [
    "---"
   ]
  },
  {
   "cell_type": "markdown",
   "metadata": {},
   "source": [
    "**I got Approval of my Plan of Attack from:**\n",
    "\n",
    "\n",
    "*AM207 Teaching Staff Member with whom you discussed your Plan of Attack (and any relevant details like date and/or medium of discussion)*\n",
    "\n",
    "\n"
   ]
  },
  {
   "cell_type": "markdown",
   "metadata": {},
   "source": [
    "Patrick Ohiomoba - Emailed on 21 November with plan of attack (sorry) :)"
   ]
  },
  {
   "cell_type": "markdown",
   "metadata": {},
   "source": [
    "---"
   ]
  }
 ],
 "metadata": {
  "anaconda-cloud": {},
  "kernelspec": {
   "display_name": "Python 3",
   "language": "python",
   "name": "python3"
  },
  "language_info": {
   "codemirror_mode": {
    "name": "ipython",
    "version": 3
   },
   "file_extension": ".py",
   "mimetype": "text/x-python",
   "name": "python",
   "nbconvert_exporter": "python",
   "pygments_lexer": "ipython3",
   "version": "3.7.0"
  }
 },
 "nbformat": 4,
 "nbformat_minor": 2
}
